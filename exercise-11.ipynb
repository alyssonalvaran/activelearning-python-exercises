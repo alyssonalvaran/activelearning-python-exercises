{
 "cells": [
  {
   "cell_type": "markdown",
   "metadata": {},
   "source": [
    "## Exercise 11: Inheritance and Polymorphism"
   ]
  },
  {
   "cell_type": "markdown",
   "metadata": {},
   "source": [
    "In the `Product` class, override the `__str__()` method to return the string representation of the product."
   ]
  },
  {
   "cell_type": "code",
   "execution_count": 1,
   "metadata": {},
   "outputs": [],
   "source": [
    "# copied from products.py\n",
    "class Product:\n",
    "    \n",
    "    def __init__(self, id, description, price = 0):\n",
    "        self.id = id\n",
    "        self.description = description\n",
    "        self.price = price\n",
    "    \n",
    "    def __str__(self):\n",
    "        output = \"\"\n",
    "        output = output + \"ID: \" + str(self.id) + \"\\n\"\n",
    "        output = output + \"Description: \" + str(self.description) + \"\\n\"\n",
    "        output = output + \"Price: \" + str(self.price) + \"\\n\"\n",
    "        \n",
    "        return output"
   ]
  },
  {
   "cell_type": "markdown",
   "metadata": {},
   "source": [
    "Modify `products-test.py` so that the product instances are printed instead of the individual attributes of the instances."
   ]
  },
  {
   "cell_type": "code",
   "execution_count": 2,
   "metadata": {},
   "outputs": [
    {
     "name": "stdout",
     "output_type": "stream",
     "text": [
      "ID: 101\n",
      "Description: Coke Can\n",
      "Price: 25.0\n",
      "\n",
      "ID: 208\n",
      "Description: Lays Chips\n",
      "Price: 105.0\n",
      "\n",
      "ID: 560\n",
      "Description: Mott's Apple Juice\n",
      "Price: 200.0\n",
      "\n"
     ]
    }
   ],
   "source": [
    "# copied from products-test.py\n",
    "p1 = Product(101, \"Coke Can\", 25.00)\n",
    "p2 = Product(208, \"Lays Chips\", 105.00)\n",
    "p3 = Product(560, \"Mott's Apple Juice\", 200.00)\n",
    "\n",
    "products = [p1, p2, p3]\n",
    "\n",
    "for product in products:\n",
    "    print(product)"
   ]
  },
  {
   "cell_type": "markdown",
   "metadata": {},
   "source": [
    "Make the `products` attribute of `ProductsService` class private."
   ]
  },
  {
   "cell_type": "code",
   "execution_count": 3,
   "metadata": {},
   "outputs": [],
   "source": [
    "# copied from products.py\n",
    "class ProductsService:\n",
    "    __products = [\n",
    "        Product(101, \"Coke Can\", 25.00),\n",
    "        Product(208, \"Lays Chips\", 105.00),\n",
    "        Product(560, \"Mott's Apple Juice\", 200.00)\n",
    "    ]"
   ]
  },
  {
   "cell_type": "markdown",
   "metadata": {},
   "source": [
    "Try accessing the `products` attribute directly using the class name."
   ]
  },
  {
   "cell_type": "code",
   "execution_count": 4,
   "metadata": {},
   "outputs": [
    {
     "ename": "AttributeError",
     "evalue": "type object 'ProductsService' has no attribute '__products'",
     "output_type": "error",
     "traceback": [
      "\u001b[0;31m---------------------------------------------------------------------------\u001b[0m",
      "\u001b[0;31mAttributeError\u001b[0m                            Traceback (most recent call last)",
      "\u001b[0;32m<ipython-input-4-3c49e39053c1>\u001b[0m in \u001b[0;36m<module>\u001b[0;34m\u001b[0m\n\u001b[0;32m----> 1\u001b[0;31m \u001b[0mproducts\u001b[0m \u001b[0;34m=\u001b[0m \u001b[0mProductsService\u001b[0m\u001b[0;34m.\u001b[0m\u001b[0m__products\u001b[0m\u001b[0;34m\u001b[0m\u001b[0m\n\u001b[0m",
      "\u001b[0;31mAttributeError\u001b[0m: type object 'ProductsService' has no attribute '__products'"
     ]
    }
   ],
   "source": [
    "products = ProductsService.__products"
   ]
  }
 ],
 "metadata": {
  "kernelspec": {
   "display_name": "Python 3",
   "language": "python",
   "name": "python3"
  },
  "language_info": {
   "codemirror_mode": {
    "name": "ipython",
    "version": 3
   },
   "file_extension": ".py",
   "mimetype": "text/x-python",
   "name": "python",
   "nbconvert_exporter": "python",
   "pygments_lexer": "ipython3",
   "version": "3.6.4"
  }
 },
 "nbformat": 4,
 "nbformat_minor": 4
}
