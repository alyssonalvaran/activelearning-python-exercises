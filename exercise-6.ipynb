{
 "cells": [
  {
   "cell_type": "markdown",
   "metadata": {},
   "source": [
    "## Exercise 6: Functions"
   ]
  },
  {
   "cell_type": "markdown",
   "metadata": {},
   "source": [
    "#### days-in-month"
   ]
  },
  {
   "cell_type": "markdown",
   "metadata": {},
   "source": [
    "Modify days-in-month of Exercise 3.1. Write a function called `num_days_in_month(month)` which will return the number of days given a month (1 to 12). The function should return -1 if the value passed is not between 1 to 12. Modify the code to make use of the function."
   ]
  },
  {
   "cell_type": "code",
   "execution_count": 1,
   "metadata": {},
   "outputs": [
    {
     "name": "stdout",
     "output_type": "stream",
     "text": [
      "Enter month (1 to 12): 2\n",
      "There are 28 days in February.\n"
     ]
    }
   ],
   "source": [
    "def num_days_in_month(month):\n",
    "    if month.isdigit() and 1 <= int(month) <= 12:\n",
    "        month = int(month)\n",
    "    else:\n",
    "        return -1, \"\"\n",
    "    \n",
    "    days = 31\n",
    "    months = [\n",
    "        \"January\",\n",
    "        \"February\",\n",
    "        \"March\",\n",
    "        \"April\",\n",
    "        \"May\",\n",
    "        \"June\",\n",
    "        \"July\",\n",
    "        \"August\",\n",
    "        \"September\",\n",
    "        \"October\",\n",
    "        \"November\",\n",
    "        \"December\"\n",
    "    ]\n",
    "    \n",
    "    if month == 2:\n",
    "        days = 28\n",
    "    elif month in [4, 6, 9, 11]:\n",
    "        days = 30\n",
    "    \n",
    "    return days, months[month - 1]\n",
    "\n",
    "month = input(\"Enter month (1 to 12): \")\n",
    "days, str_month = num_days_in_month(month)\n",
    "\n",
    "if days != -1:\n",
    "    print(\"There are {} days in {}.\".format(days, str_month))\n",
    "else:\n",
    "    print(\"Please enter a number between 1 to 12.\")"
   ]
  },
  {
   "cell_type": "markdown",
   "metadata": {},
   "source": [
    "#### password-strength"
   ]
  },
  {
   "cell_type": "markdown",
   "metadata": {},
   "source": [
    "Modify password-strength of Exercise 4. Write a function called `get_password_score(password)` which will return the password score. Modify the code to make use of the function."
   ]
  },
  {
   "cell_type": "code",
   "execution_count": 2,
   "metadata": {},
   "outputs": [
    {
     "name": "stdout",
     "output_type": "stream",
     "text": [
      "Enter a word: Wireless1\n",
      "Total score: 6\n",
      "Password strength: Medium\n"
     ]
    }
   ],
   "source": [
    "def get_password_score(password):\n",
    "    score = 0\n",
    "    strength = \"Low\"\n",
    "    \n",
    "    for letter in password:\n",
    "        # The numeric equivalent of A-Z in the ASCII table is 65-90\n",
    "        # while the numeric equivalent of 0-9 in the ASCII table is 48-57\n",
    "        if 65 <= ord(letter) <= 90 or 48 <= ord(letter) <= 57:\n",
    "            score = score + 2\n",
    "\n",
    "    if len(password) > 7:\n",
    "        score = score + 2\n",
    "        \n",
    "    if 4 <= score < 10:\n",
    "        strength = \"Medium\"\n",
    "    elif score >= 10:\n",
    "        strength = \"High\"\n",
    "\n",
    "    return score, strength\n",
    "\n",
    "password = input(\"Enter a word: \")\n",
    "score, strength = get_password_score(password)\n",
    "    \n",
    "print(\"Total score: \" + str(score))\n",
    "print(\"Password strength: \" + strength)"
   ]
  }
 ],
 "metadata": {
  "kernelspec": {
   "display_name": "Python 3",
   "language": "python",
   "name": "python3"
  },
  "language_info": {
   "codemirror_mode": {
    "name": "ipython",
    "version": 3
   },
   "file_extension": ".py",
   "mimetype": "text/x-python",
   "name": "python",
   "nbconvert_exporter": "python",
   "pygments_lexer": "ipython3",
   "version": "3.6.4"
  }
 },
 "nbformat": 4,
 "nbformat_minor": 4
}
