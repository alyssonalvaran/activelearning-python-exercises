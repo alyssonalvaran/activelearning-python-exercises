{
 "cells": [
  {
   "cell_type": "markdown",
   "metadata": {},
   "source": [
    "## Exercise 3.2: Loops"
   ]
  },
  {
   "cell_type": "markdown",
   "metadata": {},
   "source": [
    "### Major Step 1 - Using a for loop"
   ]
  },
  {
   "cell_type": "markdown",
   "metadata": {},
   "source": [
    "#### Ask the user for a number and display its factorial."
   ]
  },
  {
   "cell_type": "code",
   "execution_count": 1,
   "metadata": {},
   "outputs": [
    {
     "name": "stdout",
     "output_type": "stream",
     "text": [
      "Enter a number: 4\n",
      "The factorial of 4 is 24.\n"
     ]
    }
   ],
   "source": [
    "# assuming that the user will only enter integers\n",
    "num = int(input(\"Enter a number: \"))\n",
    "\n",
    "if num == 0:\n",
    "    factorial = 1\n",
    "    print(\"The factorial of %d is %d.\" % (num, factorial))\n",
    "else:\n",
    "    factorial = num\n",
    "    for i in range(1, num):\n",
    "        factorial = factorial * i\n",
    "    print(\"The factorial of %d is %d.\" % (num, factorial))"
   ]
  },
  {
   "cell_type": "markdown",
   "metadata": {},
   "source": [
    "#### Ask the user for a number and print a right angle triangle with each row displaying the row number."
   ]
  },
  {
   "cell_type": "code",
   "execution_count": 2,
   "metadata": {},
   "outputs": [
    {
     "name": "stdout",
     "output_type": "stream",
     "text": [
      "Enter a number: 5\n",
      "1\n",
      "22\n",
      "333\n",
      "4444\n",
      "55555\n"
     ]
    }
   ],
   "source": [
    "# assuming that the user will only enter integers\n",
    "num = int(input(\"Enter a number: \"))\n",
    "\n",
    "for i in range(1, num + 1):\n",
    "    print(str(i) * i)"
   ]
  },
  {
   "cell_type": "markdown",
   "metadata": {},
   "source": [
    "### Major Step 2 - Using a while loop"
   ]
  },
  {
   "cell_type": "markdown",
   "metadata": {},
   "source": [
    "#### Modify any of the exercises you have completed to ask the user if he/she wants to try again. Once the user decides not to try again, greet the user with the message \"Have a good day\"."
   ]
  },
  {
   "cell_type": "code",
   "execution_count": 3,
   "metadata": {},
   "outputs": [
    {
     "name": "stdout",
     "output_type": "stream",
     "text": [
      "Enter a number: 5\n",
      "1\n",
      "22\n",
      "333\n",
      "4444\n",
      "55555\n",
      "\n",
      "Would you like to try again? (y/n): y\n",
      "Enter a number: 6\n",
      "1\n",
      "22\n",
      "333\n",
      "4444\n",
      "55555\n",
      "666666\n",
      "\n",
      "Would you like to try again? (y/n): n\n",
      "Have a good day!\n"
     ]
    }
   ],
   "source": [
    "try_again = True\n",
    "\n",
    "while try_again:\n",
    "    num = int(input(\"Enter a number: \"))\n",
    "\n",
    "    for i in range(1, num + 1):\n",
    "        print(str(i) * i)\n",
    "    \n",
    "    # assuming that the user will only enter y or n\n",
    "    if input(\"\\nWould you like to try again? (y/n): \").lower() == \"n\":\n",
    "        try_again = False\n",
    "        print(\"Have a good day!\")"
   ]
  }
 ],
 "metadata": {
  "kernelspec": {
   "display_name": "Python 3",
   "language": "python",
   "name": "python3"
  },
  "language_info": {
   "codemirror_mode": {
    "name": "ipython",
    "version": 3
   },
   "file_extension": ".py",
   "mimetype": "text/x-python",
   "name": "python",
   "nbconvert_exporter": "python",
   "pygments_lexer": "ipython3",
   "version": "3.6.4"
  }
 },
 "nbformat": 4,
 "nbformat_minor": 4
}
