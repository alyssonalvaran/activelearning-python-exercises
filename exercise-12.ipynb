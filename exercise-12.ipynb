{
 "cells": [
  {
   "cell_type": "markdown",
   "metadata": {},
   "source": [
    "## Exercise 12: Exceptions"
   ]
  },
  {
   "cell_type": "markdown",
   "metadata": {},
   "source": [
    "Modify `ProductsService`'s `find()` method so that instead of returning `None` when a product is not found, a `Lookup` error is raised."
   ]
  },
  {
   "cell_type": "code",
   "execution_count": 1,
   "metadata": {},
   "outputs": [],
   "source": [
    "# copied from products.py\n",
    "class Product:\n",
    "    \n",
    "    def __init__(self, id, description, price = 0):\n",
    "        self.id = id\n",
    "        self.description = description\n",
    "        self.price = price\n",
    "\n",
    "class ProductsService:\n",
    "    products = [\n",
    "        Product(101, \"Coke Can\", 25.00),\n",
    "        Product(208, \"Lays Chips\", 105.00),\n",
    "        Product(560, \"Mott's Apple Juice\", 200.00)\n",
    "    ]\n",
    "    \n",
    "    @classmethod\n",
    "    def find(cls, id):\n",
    "        output = None\n",
    "        for product in cls.products:\n",
    "            if id == product.id:\n",
    "                output = product\n",
    "        if output == None:\n",
    "            raise LookupError(\"That product doesn't exist.\")\n",
    "        else:\n",
    "            return output"
   ]
  },
  {
   "cell_type": "markdown",
   "metadata": {},
   "source": [
    "Modify `products-service-test.py` so that when a `LookupError` occurs, the message \"That product doesn't exist\" is displayed."
   ]
  },
  {
   "cell_type": "code",
   "execution_count": 2,
   "metadata": {},
   "outputs": [
    {
     "name": "stdout",
     "output_type": "stream",
     "text": [
      "Enter a product ID: 100\n",
      "That product doesn't exist.\n"
     ]
    }
   ],
   "source": [
    "# copied from products-service-test.py\n",
    "# assuming that the user will enter a valid input\n",
    "id = int(input(\"Enter a product ID: \"))\n",
    "\n",
    "try:\n",
    "    product = ProductsService.find(id)\n",
    "    \n",
    "    print(\"Description:\", product.description)\n",
    "    print(\"Price:\", product.price)\n",
    "except LookupError as e:\n",
    "    print(e)"
   ]
  },
  {
   "cell_type": "markdown",
   "metadata": {},
   "source": [
    "In `products.py`, create your own exception type called `ProductNotFoundException` whose default error message is \"That product doesn't exist\". Modify `ProductsService`'s `find()` method so that your `ProductNotFoundException` is raised instead of `LookupError`."
   ]
  },
  {
   "cell_type": "code",
   "execution_count": 3,
   "metadata": {},
   "outputs": [],
   "source": [
    "class ProductNotFoundException(BaseException):\n",
    "    pass\n",
    "\n",
    "# copied from products.py\n",
    "class Product:\n",
    "    \n",
    "    def __init__(self, id, description, price = 0):\n",
    "        self.id = id\n",
    "        self.description = description\n",
    "        self.price = price\n",
    "\n",
    "class ProductsService:\n",
    "    products = [\n",
    "        Product(101, \"Coke Can\", 25.00),\n",
    "        Product(208, \"Lays Chips\", 105.00),\n",
    "        Product(560, \"Mott's Apple Juice\", 200.00)\n",
    "    ]\n",
    "    \n",
    "    @classmethod\n",
    "    def find(cls, id):\n",
    "        output = None\n",
    "        for product in cls.products:\n",
    "            if id == product.id:\n",
    "                output = product\n",
    "        if output == None:\n",
    "            raise ProductNotFoundException(\"That product doesn't exist.\")\n",
    "        else:\n",
    "            return output"
   ]
  },
  {
   "cell_type": "markdown",
   "metadata": {},
   "source": [
    "Modify `products-service-test.py` to handle `ProductNotFoundException` instead of `LookupError`."
   ]
  },
  {
   "cell_type": "code",
   "execution_count": 4,
   "metadata": {},
   "outputs": [
    {
     "name": "stdout",
     "output_type": "stream",
     "text": [
      "Enter a product ID: 100\n",
      "That product doesn't exist.\n"
     ]
    }
   ],
   "source": [
    "# copied from products-service-test.py\n",
    "# assuming that the user will enter a valid input\n",
    "id = int(input(\"Enter a product ID: \"))\n",
    "\n",
    "try:\n",
    "    product = ProductsService.find(id)\n",
    "    \n",
    "    print(\"Description:\", product.description)\n",
    "    print(\"Price:\", product.price)\n",
    "except ProductNotFoundException as e:\n",
    "    print(e)"
   ]
  }
 ],
 "metadata": {
  "kernelspec": {
   "display_name": "Python 3",
   "language": "python",
   "name": "python3"
  },
  "language_info": {
   "codemirror_mode": {
    "name": "ipython",
    "version": 3
   },
   "file_extension": ".py",
   "mimetype": "text/x-python",
   "name": "python",
   "nbconvert_exporter": "python",
   "pygments_lexer": "ipython3",
   "version": "3.6.4"
  }
 },
 "nbformat": 4,
 "nbformat_minor": 4
}
