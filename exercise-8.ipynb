{
 "cells": [
  {
   "cell_type": "markdown",
   "metadata": {},
   "source": [
    "## Exercise 8"
   ]
  },
  {
   "cell_type": "markdown",
   "metadata": {},
   "source": [
    "#### dates-and-times"
   ]
  },
  {
   "cell_type": "markdown",
   "metadata": {},
   "source": [
    "Ask the user to input a month, day, and year, and display it in the following format - `Jan 2, 2019 (Wed)`."
   ]
  },
  {
   "cell_type": "code",
   "execution_count": 5,
   "metadata": {},
   "outputs": [
    {
     "name": "stdout",
     "output_type": "stream",
     "text": [
      "Enter month (1 to 12): 1\n",
      "Enter day (1 to 31): 2\n",
      "Enter year (1 to 12): 2019\n",
      "That is Wednesday January 2, 2019\n"
     ]
    }
   ],
   "source": [
    "import datetime\n",
    "\n",
    "# assuming that the user will enter valid inputs:\n",
    "month = int(input(\"Enter month (1 to 12): \"))\n",
    "day = int(input(\"Enter day (1 to 31): \"))\n",
    "year = int(input(\"Enter year (1 to 12): \"))\n",
    "\n",
    "dt = datetime.date(year, month, day)\n",
    "\n",
    "print(\"That is \" + f\"{dt:%A} {dt:%B} {dt.day}, {dt:%Y}\")"
   ]
  },
  {
   "cell_type": "markdown",
   "metadata": {},
   "source": [
    "Display the current time in the following format - `9:05 PM`."
   ]
  },
  {
   "cell_type": "code",
   "execution_count": 9,
   "metadata": {},
   "outputs": [
    {
     "name": "stdout",
     "output_type": "stream",
     "text": [
      "3:16 AM\n"
     ]
    }
   ],
   "source": [
    "today = datetime.datetime.today()\n",
    "print(f\"{today.hour}:{today:%M} {today:%p}\")"
   ]
  },
  {
   "cell_type": "markdown",
   "metadata": {},
   "source": [
    "#### list-dir"
   ]
  },
  {
   "cell_type": "markdown",
   "metadata": {},
   "source": [
    "Display the contents of the root directory."
   ]
  },
  {
   "cell_type": "code",
   "execution_count": 13,
   "metadata": {},
   "outputs": [
    {
     "name": "stdout",
     "output_type": "stream",
     "text": [
      "exercise-3.1.ipynb\n",
      "exercise-2.ipynb\n",
      "exercise-6.ipynb\n",
      "exercise-4.ipynb\n",
      "exercise-1.ipynb\n",
      "exercise-3.2.ipynb\n",
      "exercise-5.ipynb\n",
      "__pycache__\n",
      "exercise-7.ipynb\n",
      "README.md\n",
      "env\n",
      "password_utils.py\n",
      ".gitignore\n",
      "exercise-8.ipynb\n",
      ".ipynb_checkpoints\n",
      ".git\n",
      ".vscode\n"
     ]
    }
   ],
   "source": [
    "import os\n",
    "\n",
    "for file in os.listdir(os.getcwd()):\n",
    "    print(file)"
   ]
  }
 ],
 "metadata": {
  "kernelspec": {
   "display_name": "Python 3",
   "language": "python",
   "name": "python3"
  },
  "language_info": {
   "codemirror_mode": {
    "name": "ipython",
    "version": 3
   },
   "file_extension": ".py",
   "mimetype": "text/x-python",
   "name": "python",
   "nbconvert_exporter": "python",
   "pygments_lexer": "ipython3",
   "version": "3.6.4"
  }
 },
 "nbformat": 4,
 "nbformat_minor": 4
}
