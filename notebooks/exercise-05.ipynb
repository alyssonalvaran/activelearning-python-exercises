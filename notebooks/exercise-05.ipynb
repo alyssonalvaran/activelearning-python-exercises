{
 "cells": [
  {
   "cell_type": "markdown",
   "metadata": {},
   "source": [
    "## Exercise 5: Strings"
   ]
  },
  {
   "cell_type": "markdown",
   "metadata": {},
   "source": [
    "#### password-strength"
   ]
  },
  {
   "cell_type": "markdown",
   "metadata": {},
   "source": [
    "Ask the user for a word. After which, print out that word letter by letter.\n",
    "\n",
    "For each iteration, have an if statement that would determine a score for each character.\n",
    "- A capital letter: 2 points\n",
    "- A number: 2 points\n",
    "\n",
    "Add up the total score, plus an additional 2 points if the inputted string is more than 7 characters long. Output the total score.\n",
    "\n",
    "Output the strength of the password based on the following criteria:\n",
    "- score < 4: Low\n",
    "- 4 <= score < 10: Medium\n",
    "- score >= 10: High"
   ]
  },
  {
   "cell_type": "code",
   "execution_count": 1,
   "metadata": {},
   "outputs": [
    {
     "name": "stdout",
     "output_type": "stream",
     "text": [
      "Enter a word: Wireless1\n",
      "W\n",
      "i\n",
      "r\n",
      "e\n",
      "l\n",
      "e\n",
      "s\n",
      "s\n",
      "1\n",
      "Total score: 6\n",
      "Password strength: Medium\n"
     ]
    }
   ],
   "source": [
    "word = input(\"Enter a word: \")\n",
    "score = 0\n",
    "password_strength = \"Low\"\n",
    "\n",
    "for letter in word:\n",
    "    print(letter)\n",
    "    \n",
    "    # The numeric equivalent of A-Z in the ASCII table is 65-90\n",
    "    # while the numeric equivalent of 0-9 in the ASCII table is 48-57\n",
    "    if 65 <= ord(letter) <= 90 or 48 <= ord(letter) <= 57:\n",
    "        score = score + 2\n",
    "\n",
    "if len(word) > 7:\n",
    "    score = score + 2\n",
    "    \n",
    "print(\"Total score: \" + str(score))\n",
    "\n",
    "if 4 <= score < 10:\n",
    "    password_strength = \"Medium\"\n",
    "elif score >= 10:\n",
    "    password_strength = \"High\"\n",
    "\n",
    "print(\"Password strength: \" + password_strength)"
   ]
  }
 ],
 "metadata": {
  "kernelspec": {
   "display_name": "Python 3",
   "language": "python",
   "name": "python3"
  },
  "language_info": {
   "codemirror_mode": {
    "name": "ipython",
    "version": 3
   },
   "file_extension": ".py",
   "mimetype": "text/x-python",
   "name": "python",
   "nbconvert_exporter": "python",
   "pygments_lexer": "ipython3",
   "version": "3.6.4"
  }
 },
 "nbformat": 4,
 "nbformat_minor": 4
}
