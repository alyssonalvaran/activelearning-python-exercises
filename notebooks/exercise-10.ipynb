{
 "cells": [
  {
   "cell_type": "markdown",
   "metadata": {},
   "source": [
    "## Exercise 10: Decorators"
   ]
  },
  {
   "cell_type": "markdown",
   "metadata": {},
   "source": [
    "#### products"
   ]
  },
  {
   "cell_type": "markdown",
   "metadata": {},
   "source": [
    "Create a class called `ProductsService` which contains:\n",
    "* a static attribute called `products` which contains a list of 3 Product instances\n",
    "* a class method called `get_products()` which returns `products`.\n",
    "* a class method called `find()` which accepts `id` as a parameter and returns either a `Product` object that matches the parameter or `None`."
   ]
  },
  {
   "cell_type": "code",
   "execution_count": 1,
   "metadata": {},
   "outputs": [],
   "source": [
    "# copied from products.py\n",
    "class Product:\n",
    "    \n",
    "    def __init__(self, id, description, price = 0):\n",
    "        self.id = id\n",
    "        self.description = description\n",
    "        self.price = price\n",
    "\n",
    "class ProductsService:\n",
    "    products = [\n",
    "        Product(101, \"Coke Can\", 25.00),\n",
    "        Product(208, \"Lays Chips\", 105.00),\n",
    "        Product(560, \"Mott's Apple Juice\", 200.00)\n",
    "    ]\n",
    "    \n",
    "    @classmethod\n",
    "    def get_products(cls):\n",
    "        return cls.products\n",
    "    \n",
    "    @classmethod\n",
    "    def find(cls, id):\n",
    "        for product in cls.products:\n",
    "            if id == product.id:\n",
    "                return product\n",
    "        \n",
    "        return None"
   ]
  },
  {
   "cell_type": "markdown",
   "metadata": {},
   "source": [
    "#### products-service-test"
   ]
  },
  {
   "cell_type": "markdown",
   "metadata": {},
   "source": [
    "Use `ProductsService`'s `get_products()` to retrieve the list of products. Iterate through the list and print its attributes."
   ]
  },
  {
   "cell_type": "code",
   "execution_count": 2,
   "metadata": {},
   "outputs": [
    {
     "name": "stdout",
     "output_type": "stream",
     "text": [
      "ID: 101\n",
      "Description: Coke Can\n",
      "Price: 25.0\n",
      "\n",
      "ID: 208\n",
      "Description: Lays Chips\n",
      "Price: 105.0\n",
      "\n",
      "ID: 560\n",
      "Description: Mott's Apple Juice\n",
      "Price: 200.0\n",
      "\n"
     ]
    }
   ],
   "source": [
    "products = ProductsService.get_products()\n",
    "\n",
    "for product in products:\n",
    "    print(\"ID:\", product.id)\n",
    "    print(\"Description:\", product.description)\n",
    "    print(\"Price:\", product.price)\n",
    "    print()"
   ]
  },
  {
   "cell_type": "markdown",
   "metadata": {},
   "source": [
    "Ask the user for a product id. Use `ProductsService`'s `find()` method to retrieve the product and display its attributes. If the product id entered does not exist, display \"That product doesn't exist\"."
   ]
  },
  {
   "cell_type": "code",
   "execution_count": 3,
   "metadata": {},
   "outputs": [
    {
     "name": "stdout",
     "output_type": "stream",
     "text": [
      "Enter a product ID: 560\n",
      "Description: Mott's Apple Juice\n",
      "Price: 200.0\n"
     ]
    }
   ],
   "source": [
    "# assuming that the user will enter a valid input\n",
    "id = int(input(\"Enter a product ID: \"))\n",
    "product = ProductsService.find(id)\n",
    "\n",
    "if product is not None:\n",
    "    print(\"Description:\", product.description)\n",
    "    print(\"Price:\", product.price)\n",
    "else:\n",
    "    print(\"That product doesn't exist.\")"
   ]
  }
 ],
 "metadata": {
  "kernelspec": {
   "display_name": "Python 3",
   "language": "python",
   "name": "python3"
  },
  "language_info": {
   "codemirror_mode": {
    "name": "ipython",
    "version": 3
   },
   "file_extension": ".py",
   "mimetype": "text/x-python",
   "name": "python",
   "nbconvert_exporter": "python",
   "pygments_lexer": "ipython3",
   "version": "3.6.4"
  }
 },
 "nbformat": 4,
 "nbformat_minor": 4
}
