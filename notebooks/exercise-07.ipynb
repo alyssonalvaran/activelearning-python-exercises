{
 "cells": [
  {
   "cell_type": "markdown",
   "metadata": {},
   "source": [
    "## Exercise 7: Modules"
   ]
  },
  {
   "cell_type": "markdown",
   "metadata": {},
   "source": [
    "Create a module named `password_utils` and copy the `get_password_score(password)` function from Exercise 6."
   ]
  },
  {
   "cell_type": "markdown",
   "metadata": {},
   "source": [
    "Modify `password_strength.py` to make use of the `get_password_score(password)` function from `password_utils`."
   ]
  },
  {
   "cell_type": "code",
   "execution_count": 1,
   "metadata": {},
   "outputs": [
    {
     "name": "stdout",
     "output_type": "stream",
     "text": [
      "Enter a word: Wireless1\n",
      "Total score: 6\n",
      "Password strength: Medium\n"
     ]
    }
   ],
   "source": [
    "import password_utils\n",
    "\n",
    "password = input(\"Enter a word: \")\n",
    "score, strength = password_utils.get_password_score(password)\n",
    "    \n",
    "print(\"Total score: \" + str(score))\n",
    "print(\"Password strength: \" + strength)"
   ]
  }
 ],
 "metadata": {
  "kernelspec": {
   "display_name": "Python 3",
   "language": "python",
   "name": "python3"
  },
  "language_info": {
   "codemirror_mode": {
    "name": "ipython",
    "version": 3
   },
   "file_extension": ".py",
   "mimetype": "text/x-python",
   "name": "python",
   "nbconvert_exporter": "python",
   "pygments_lexer": "ipython3",
   "version": "3.6.4"
  }
 },
 "nbformat": 4,
 "nbformat_minor": 4
}
