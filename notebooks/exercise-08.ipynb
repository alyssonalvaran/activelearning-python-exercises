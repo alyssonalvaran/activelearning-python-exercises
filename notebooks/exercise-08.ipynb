{
 "cells": [
  {
   "cell_type": "markdown",
   "metadata": {},
   "source": [
    "## Exercise 8"
   ]
  },
  {
   "cell_type": "markdown",
   "metadata": {},
   "source": [
    "#### dates-and-times"
   ]
  },
  {
   "cell_type": "markdown",
   "metadata": {},
   "source": [
    "Ask the user to input a month, day, and year, and display it in the following format - `Jan 2, 2019 (Wed)`."
   ]
  },
  {
   "cell_type": "code",
   "execution_count": 1,
   "metadata": {},
   "outputs": [
    {
     "name": "stdout",
     "output_type": "stream",
     "text": [
      "Enter month (1 to 12): 1\n",
      "Enter day (1 to 31): 2\n",
      "Enter year (1 to 12): 2019\n",
      "That is Wednesday January 2, 2019\n"
     ]
    }
   ],
   "source": [
    "import datetime\n",
    "\n",
    "# assuming that the user will enter valid inputs:\n",
    "month = int(input(\"Enter month (1 to 12): \"))\n",
    "day = int(input(\"Enter day (1 to 31): \"))\n",
    "year = int(input(\"Enter year (1 to 12): \"))\n",
    "\n",
    "dt = datetime.date(year, month, day)\n",
    "\n",
    "print(\"That is \" + f\"{dt:%A} {dt:%B} {dt.day}, {dt:%Y}\")"
   ]
  },
  {
   "cell_type": "markdown",
   "metadata": {},
   "source": [
    "Display the current time in the following format - `9:05 PM`."
   ]
  },
  {
   "cell_type": "code",
   "execution_count": null,
   "metadata": {},
   "outputs": [],
   "source": [
    "today = datetime.datetime.today()\n",
    "print(f\"{today.hour}:{today:%M} {today:%p}\")"
   ]
  },
  {
   "cell_type": "markdown",
   "metadata": {},
   "source": [
    "#### list-dir"
   ]
  },
  {
   "cell_type": "markdown",
   "metadata": {},
   "source": [
    "Display the contents of the root directory."
   ]
  },
  {
   "cell_type": "code",
   "execution_count": null,
   "metadata": {},
   "outputs": [],
   "source": [
    "import os\n",
    "\n",
    "for file in os.listdir(\"/\"):\n",
    "    print(file)"
   ]
  }
 ],
 "metadata": {
  "kernelspec": {
   "display_name": "Python 3",
   "language": "python",
   "name": "python3"
  },
  "language_info": {
   "codemirror_mode": {
    "name": "ipython",
    "version": 3
   },
   "file_extension": ".py",
   "mimetype": "text/x-python",
   "name": "python",
   "nbconvert_exporter": "python",
   "pygments_lexer": "ipython3",
   "version": "3.6.8"
  }
 },
 "nbformat": 4,
 "nbformat_minor": 4
}
