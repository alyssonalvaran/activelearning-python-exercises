{
 "cells": [
  {
   "cell_type": "markdown",
   "metadata": {},
   "source": [
    "## Exercise 9: Object-Oriented Programming"
   ]
  },
  {
   "cell_type": "markdown",
   "metadata": {},
   "source": [
    "#### products"
   ]
  },
  {
   "cell_type": "markdown",
   "metadata": {},
   "source": [
    "Create a class called `Product` with a constructor that contains the following attributes:\n",
    "* id (required)\n",
    "* description (required)\n",
    "* price (optional; default value is 0)"
   ]
  },
  {
   "cell_type": "code",
   "execution_count": 1,
   "metadata": {},
   "outputs": [],
   "source": [
    "class Product:\n",
    "    \n",
    "    def __init__(self, id, description, price = 0):\n",
    "        self.id = id\n",
    "        self.description = description\n",
    "        self.price = price"
   ]
  },
  {
   "cell_type": "markdown",
   "metadata": {},
   "source": [
    "#### products-test"
   ]
  },
  {
   "cell_type": "markdown",
   "metadata": {},
   "source": [
    "Create 3 instances of `Product` and add them to a list named `products`."
   ]
  },
  {
   "cell_type": "code",
   "execution_count": 2,
   "metadata": {},
   "outputs": [],
   "source": [
    "p1 = Product(101, \"Coke Can\", 25.00)\n",
    "p2 = Product(208, \"Lays Chips\", 105.00)\n",
    "p3 = Product(560, \"Mott's Apple Juice\", 200.00)\n",
    "\n",
    "products = [p1, p2, p3]"
   ]
  },
  {
   "cell_type": "markdown",
   "metadata": {},
   "source": [
    "Iterate through `products` and display their attributes."
   ]
  },
  {
   "cell_type": "code",
   "execution_count": 3,
   "metadata": {},
   "outputs": [
    {
     "name": "stdout",
     "output_type": "stream",
     "text": [
      "ID: 101\n",
      "Description: Coke Can\n",
      "Price: 25.0\n",
      "\n",
      "ID: 208\n",
      "Description: Lays Chips\n",
      "Price: 105.0\n",
      "\n",
      "ID: 560\n",
      "Description: Mott's Apple Juice\n",
      "Price: 200.0\n",
      "\n"
     ]
    }
   ],
   "source": [
    "for p in products:\n",
    "    print(\"ID:\", p.id)\n",
    "    print(\"Description:\", p.description)\n",
    "    print(\"Price:\", p.price)\n",
    "    print()"
   ]
  }
 ],
 "metadata": {
  "kernelspec": {
   "display_name": "Python 3",
   "language": "python",
   "name": "python3"
  },
  "language_info": {
   "codemirror_mode": {
    "name": "ipython",
    "version": 3
   },
   "file_extension": ".py",
   "mimetype": "text/x-python",
   "name": "python",
   "nbconvert_exporter": "python",
   "pygments_lexer": "ipython3",
   "version": "3.6.4"
  }
 },
 "nbformat": 4,
 "nbformat_minor": 4
}
