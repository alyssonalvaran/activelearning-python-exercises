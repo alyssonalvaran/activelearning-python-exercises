{
 "cells": [
  {
   "cell_type": "markdown",
   "metadata": {},
   "source": [
    "## Exercise 4: Collections"
   ]
  },
  {
   "cell_type": "markdown",
   "metadata": {},
   "source": [
    "### Major Step 1 - Working with Lists"
   ]
  },
  {
   "cell_type": "markdown",
   "metadata": {},
   "source": [
    "#### months-using-lists"
   ]
  },
  {
   "cell_type": "markdown",
   "metadata": {},
   "source": [
    "Create a list named `months` containing the months of the year in words."
   ]
  },
  {
   "cell_type": "code",
   "execution_count": 1,
   "metadata": {},
   "outputs": [],
   "source": [
    "months = [\n",
    "    \"January\",\n",
    "    \"February\",\n",
    "    \"March\",\n",
    "    \"April\",\n",
    "    \"May\",\n",
    "    \"June\",\n",
    "    \"July\",\n",
    "    \"August\",\n",
    "    \"September\",\n",
    "    \"October\",\n",
    "    \"November\",\n",
    "    \"December\"\n",
    "]"
   ]
  },
  {
   "cell_type": "markdown",
   "metadata": {},
   "source": [
    "Using a loop, print out the contents of the list."
   ]
  },
  {
   "cell_type": "code",
   "execution_count": 2,
   "metadata": {},
   "outputs": [
    {
     "name": "stdout",
     "output_type": "stream",
     "text": [
      "January\n",
      "February\n",
      "March\n",
      "April\n",
      "May\n",
      "June\n",
      "July\n",
      "August\n",
      "September\n",
      "October\n",
      "November\n",
      "December\n"
     ]
    }
   ],
   "source": [
    "for month in months:\n",
    "    print(month)"
   ]
  },
  {
   "cell_type": "markdown",
   "metadata": {},
   "source": [
    "#### product-list"
   ]
  },
  {
   "cell_type": "markdown",
   "metadata": {},
   "source": [
    "Ask the user to enter a month (1 to 12). Lookup the list and display the corresponding textual version of the month."
   ]
  },
  {
   "cell_type": "code",
   "execution_count": 3,
   "metadata": {},
   "outputs": [
    {
     "name": "stdout",
     "output_type": "stream",
     "text": [
      "Enter month (1 to 12): 2\n",
      "2 is February\n"
     ]
    }
   ],
   "source": [
    "# assuming that the user will enter an integer\n",
    "num = int(input(\"Enter month (1 to 12): \"))\n",
    "\n",
    "if 1 <= num <= 12:\n",
    "    print(str(num) + \" is \" + months[num - 1])\n",
    "else:\n",
    "    print(\"Please enter 1 to 12.\")"
   ]
  },
  {
   "cell_type": "markdown",
   "metadata": {},
   "source": [
    "Ask the user for a product description. As the user enters products, add them to a list. Repeat until the user decides not to enter any more products. After the user has completed entering all the products, display the contents of the list."
   ]
  },
  {
   "cell_type": "code",
   "execution_count": 4,
   "metadata": {},
   "outputs": [
    {
     "name": "stdout",
     "output_type": "stream",
     "text": [
      "Enter description: Coke Can\n",
      "Do you want to enter another product? (y/n) y\n",
      "\n",
      "Enter description: Lays Chips\n",
      "Do you want to enter another product? (y/n) n\n",
      "\n",
      "Here are the products you added:\n",
      "Coke Can\n",
      "Lays Chips\n"
     ]
    }
   ],
   "source": [
    "products = []\n",
    "is_done = False\n",
    "\n",
    "while not is_done:\n",
    "    products.append(input(\"Enter description: \"))\n",
    "    \n",
    "    # assuming that the user will only enter y or n\n",
    "    if input(\"Do you want to enter another product? (y/n) \").lower() == \"n\":\n",
    "        is_done = True\n",
    "    \n",
    "    print()\n",
    "\n",
    "print(\"Here are the products you added:\")\n",
    "for product in products:\n",
    "    print(product)"
   ]
  },
  {
   "cell_type": "markdown",
   "metadata": {},
   "source": [
    "### Major Step 2 - Working with Dictionaries"
   ]
  },
  {
   "cell_type": "markdown",
   "metadata": {},
   "source": [
    "#### months-using-dictionaries"
   ]
  },
  {
   "cell_type": "markdown",
   "metadata": {},
   "source": [
    "Create a dictionary named `months` containing the months of the year in words as keys, and the numeric equivalent of the month as numbers."
   ]
  },
  {
   "cell_type": "code",
   "execution_count": 5,
   "metadata": {},
   "outputs": [],
   "source": [
    "months = {\n",
    "    \"Jan\": 1,\n",
    "    \"Feb\": 2,\n",
    "    \"Mar\": 3,\n",
    "    \"Apr\": 4,\n",
    "    \"May\": 5,\n",
    "    \"Jun\": 6,\n",
    "    \"Jul\": 7,\n",
    "    \"Aug\": 8,\n",
    "    \"Sep\": 9,\n",
    "    \"Oct\": 10,\n",
    "    \"Nov\": 11,\n",
    "    \"Dec\": 12,\n",
    "}"
   ]
  },
  {
   "cell_type": "markdown",
   "metadata": {},
   "source": [
    "Using a loop, print out the contents of the dictionary."
   ]
  },
  {
   "cell_type": "code",
   "execution_count": 6,
   "metadata": {},
   "outputs": [
    {
     "name": "stdout",
     "output_type": "stream",
     "text": [
      "Jan = 1\n",
      "Feb = 2\n",
      "Mar = 3\n",
      "Apr = 4\n",
      "May = 5\n",
      "Jun = 6\n",
      "Jul = 7\n",
      "Aug = 8\n",
      "Sep = 9\n",
      "Oct = 10\n",
      "Nov = 11\n",
      "Dec = 12\n"
     ]
    }
   ],
   "source": [
    "for month in months:\n",
    "    print(month + \" = \" + str(months[month]))"
   ]
  },
  {
   "cell_type": "markdown",
   "metadata": {},
   "source": [
    "Ask the user to enter a month. Lookup the list and display the corresponding numerical version of the month."
   ]
  },
  {
   "cell_type": "code",
   "execution_count": 7,
   "metadata": {},
   "outputs": [
    {
     "name": "stdout",
     "output_type": "stream",
     "text": [
      "Enter a month: Feb\n",
      "Feb is 2\n"
     ]
    }
   ],
   "source": [
    "# assuming that the user will enter a valid input\n",
    "month = input(\"Enter a month: \")\n",
    "\n",
    "if month in months:\n",
    "    print(month + \" is \" + str(months[month]))"
   ]
  },
  {
   "cell_type": "markdown",
   "metadata": {},
   "source": [
    "#### products-dictionary"
   ]
  },
  {
   "cell_type": "markdown",
   "metadata": {},
   "source": [
    "Ask the user for a product code and a product description. As the user enters products, add them to a dictionary using code as keys and the descriptions as values. Repeat until the user decides not to enter any more products. After the user has completed entering all the products, display the contents of the dictionary."
   ]
  },
  {
   "cell_type": "code",
   "execution_count": 8,
   "metadata": {},
   "outputs": [
    {
     "name": "stdout",
     "output_type": "stream",
     "text": [
      "Enter code: 123\n",
      "Enter description: Coke Can\n",
      "Do you want enter another product? (y/n) y\n",
      "\n",
      "Enter code: 456\n",
      "Enter description: Lays Chips\n",
      "Do you want enter another product? (y/n) n\n",
      "\n",
      "Here are the products you entered:\n",
      "\n",
      "Code: 123\n",
      "Description: Coke Can\n",
      "\n",
      "Code: 456\n",
      "Description: Lays Chips\n"
     ]
    }
   ],
   "source": [
    "products = {}\n",
    "is_done = False\n",
    "\n",
    "while not is_done:\n",
    "    code = input(\"Enter code: \")\n",
    "    desc = input(\"Enter description: \")\n",
    "    products[code] = desc\n",
    "    \n",
    "    # assuming that the user will only enter a valid input\n",
    "    continue_shopping = input(\"Do you want enter another product? (y/n) \").lower()\n",
    "    if continue_shopping == \"n\":\n",
    "        is_done = True\n",
    "    \n",
    "    print()\n",
    "\n",
    "print(\"Here are the products you entered:\")\n",
    "\n",
    "for code, desc in products.items():\n",
    "    print()\n",
    "    print(\"Code: \" + code)\n",
    "    print(\"Description: \" + desc)"
   ]
  }
 ],
 "metadata": {
  "kernelspec": {
   "display_name": "Python 3",
   "language": "python",
   "name": "python3"
  },
  "language_info": {
   "codemirror_mode": {
    "name": "ipython",
    "version": 3
   },
   "file_extension": ".py",
   "mimetype": "text/x-python",
   "name": "python",
   "nbconvert_exporter": "python",
   "pygments_lexer": "ipython3",
   "version": "3.6.4"
  }
 },
 "nbformat": 4,
 "nbformat_minor": 4
}
