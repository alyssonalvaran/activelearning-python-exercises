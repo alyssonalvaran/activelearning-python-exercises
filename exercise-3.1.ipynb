{
 "cells": [
  {
   "cell_type": "markdown",
   "metadata": {},
   "source": [
    "## Exercise 3.1: Conditional Statements"
   ]
  },
  {
   "cell_type": "markdown",
   "metadata": {},
   "source": [
    "#### days-in-month\n",
    "Ask the user for the month (1 to 12). After the user has selected a month, output the number of days in that. If the user enters an invalid month, print an error to the screen. You can choose to ignore leap years for now."
   ]
  },
  {
   "cell_type": "code",
   "execution_count": 1,
   "metadata": {},
   "outputs": [
    {
     "name": "stdout",
     "output_type": "stream",
     "text": [
      "Enter month (1 to 12): 2\n",
      "There are 28 days.\n"
     ]
    }
   ],
   "source": [
    "month = input(\"Enter month (1 to 12): \")\n",
    "\n",
    "if month == \"1\":\n",
    "    print(\"There are 31 days.\")\n",
    "elif month == \"2\":\n",
    "    print(\"There are 28 days.\")\n",
    "elif month == \"3\":\n",
    "    print(\"There are 31 days.\")\n",
    "elif month == \"4\":\n",
    "    print(\"There are 30 days.\")\n",
    "elif month == \"5\":\n",
    "    print(\"There are 31 days.\")\n",
    "elif month == \"6\":\n",
    "    print(\"There are 30 days.\")\n",
    "elif month == \"7\":\n",
    "    print(\"There are 31 days.\")\n",
    "elif month == \"8\":\n",
    "    print(\"There are 31 days.\")\n",
    "elif month == \"9\":\n",
    "    print(\"There are 30 days.\")\n",
    "elif month == \"10\":\n",
    "    print(\"There are 31 days.\")\n",
    "elif month == \"11\":\n",
    "    print(\"There are 30 days.\")\n",
    "elif month == \"12\":\n",
    "    print(\"There are 31 days.\")\n",
    "else:\n",
    "    print(\"Please enter a number between 1 to 12.\")"
   ]
  },
  {
   "cell_type": "markdown",
   "metadata": {},
   "source": [
    "Modify the previous exercise so that the text version of the month (2 = February) is also displayed in the output."
   ]
  },
  {
   "cell_type": "code",
   "execution_count": 2,
   "metadata": {},
   "outputs": [
    {
     "name": "stdout",
     "output_type": "stream",
     "text": [
      "Enter month (1 to 12): 2\n",
      "There are 28 days in February.\n"
     ]
    }
   ],
   "source": [
    "month = input(\"Enter month (1 to 12): \")\n",
    "\n",
    "if month == \"1\":\n",
    "    print(\"There are 31 days in January.\")\n",
    "elif month == \"2\":\n",
    "    print(\"There are 28 days in February.\")\n",
    "elif month == \"3\":\n",
    "    print(\"There are 31 days in March.\")\n",
    "elif month == \"4\":\n",
    "    print(\"There are 30 days in April.\")\n",
    "elif month == \"5\":\n",
    "    print(\"There are 31 days in May.\")\n",
    "elif month == \"6\":\n",
    "    print(\"There are 30 days in June.\")\n",
    "elif month == \"7\":\n",
    "    print(\"There are 31 days in July.\")\n",
    "elif month == \"8\":\n",
    "    print(\"There are 31 days in August.\")\n",
    "elif month == \"9\":\n",
    "    print(\"There are 30 days in September.\")\n",
    "elif month == \"10\":\n",
    "    print(\"There are 31 days in October.\")\n",
    "elif month == \"11\":\n",
    "    print(\"There are 30 days in November.\")\n",
    "elif month == \"12\":\n",
    "    print(\"There are 31 days in December.\")\n",
    "else:\n",
    "    print(\"Please enter a number between 1 to 12.\")"
   ]
  },
  {
   "cell_type": "markdown",
   "metadata": {},
   "source": [
    "#### smallest\n",
    "Ask for three numbers from the user and print the greatest number."
   ]
  },
  {
   "cell_type": "code",
   "execution_count": 3,
   "metadata": {},
   "outputs": [
    {
     "name": "stdout",
     "output_type": "stream",
     "text": [
      "Enter 1st number: 10\n",
      "Enter 2nd number: 20\n",
      "Enter 3rd number: 30\n",
      "\n",
      "The greatest of the 3 numbers is 30\n"
     ]
    }
   ],
   "source": [
    "# assuming that the user will only input integers\n",
    "num1 = int(input(\"Enter 1st number: \"))\n",
    "num2 = int(input(\"Enter 2nd number: \"))\n",
    "num3 = int(input(\"Enter 3rd number: \"))\n",
    "\n",
    "greatest_num = num1\n",
    "if num2 > greatest_num:\n",
    "    greatest_num = num2\n",
    "if num3 > greatest_num:\n",
    "    greatest_num = num3\n",
    "\n",
    "print()\n",
    "print(\"The greatest of the 3 numbers is\", greatest_num)"
   ]
  }
 ],
 "metadata": {
  "kernelspec": {
   "display_name": "Python 3",
   "language": "python",
   "name": "python3"
  },
  "language_info": {
   "codemirror_mode": {
    "name": "ipython",
    "version": 3
   },
   "file_extension": ".py",
   "mimetype": "text/x-python",
   "name": "python",
   "nbconvert_exporter": "python",
   "pygments_lexer": "ipython3",
   "version": "3.6.4"
  }
 },
 "nbformat": 4,
 "nbformat_minor": 4
}
